{
 "cells": [
  {
   "cell_type": "markdown",
   "metadata": {},
   "source": [
    "# Pysolation course project #1\n",
    "27th of May 2020\n",
    "Tonya White, Vera Bouwman, Louk de Mol, Elisabet Blok"
   ]
  },
  {
   "cell_type": "markdown",
   "metadata": {},
   "source": [
    "So first we will import all the modules that we are going to need for this script. <br> **nibabel** is the package that we will use to import the files that we obtain from FreeSurfer. <br> **numpy** is a package that allows us to do vector and matrix operations. <br> **pandas** is a package that lets us work with large amounts of data in so-called dataframes. <br> **matplotlib.pyplot** is a package that lets us plot data. <br> **scipy.stats** is a package that lets us do statistics on our data. <br> **nibabel.freesurfer.mghformat.load** is a specific function that allows us to easily load FreeSurfer formats."
   ]
  },
  {
   "cell_type": "code",
   "execution_count": 3,
   "metadata": {},
   "outputs": [],
   "source": [
    "# Importing 'as' makes it easier for us to use a package throughout a file,\n",
    "# it will allow us to use functions in that package using nib.FUNCTION() instead of using nibabel.FUNCTION()\n",
    "import nibabel as nib\n",
    "import numpy as np\n",
    "import pandas as pd\n",
    "import matplotlib.pyplot as plt\n",
    "# Importing 'from' means that we only use a specific subpart of a package\n",
    "# this can be a function or a structure, like scipy.stats that contains specific functions\n",
    "# instead of loading all of the functions inside scipy, \n",
    "# we can load a subpackage that only contains statistics functions\n",
    "from scipy import stats\n",
    "from nibabel import freesurfer\n",
    "from pathlib import Path"
   ]
  },
  {
   "cell_type": "markdown",
   "metadata": {},
   "source": [
    "### ORDER OF FUNCTIONALITY IN THIS SCRIPT\n",
    "1. Read in IDC paths\n",
    "2. Check how large output arrays should be\n",
    "3. Make output data arrays\n",
    "4. Array for LH thickness cases and array LH thickness controls (similar for all following outputs)\n",
    "5. Make loop to cycle through all vertices \n",
    "6. Run paired ttest\n",
    "7. Write output \n",
    "8. Go to next morph\n",
    "9. Apply multiple testing (and figure out how!) --> check with Sander\n",
    "\n",
    "### Loop order\n",
    "1. Length of morph\n",
    "2. Cycle through vertices\n",
    "\n",
    "Why this way? To circumvent having to load the data every time"
   ]
  },
  {
   "cell_type": "code",
   "execution_count": null,
   "metadata": {},
   "outputs": [],
   "source": []
  },
  {
   "cell_type": "code",
   "execution_count": null,
   "metadata": {},
   "outputs": [],
   "source": []
  }
 ],
 "metadata": {
  "kernelspec": {
   "display_name": "Python 3",
   "language": "python",
   "name": "python3"
  },
  "language_info": {
   "codemirror_mode": {
    "name": "ipython",
    "version": 3
   },
   "file_extension": ".py",
   "mimetype": "text/x-python",
   "name": "python",
   "nbconvert_exporter": "python",
   "pygments_lexer": "ipython3",
   "version": "3.7.8"
  }
 },
 "nbformat": 4,
 "nbformat_minor": 2
}
