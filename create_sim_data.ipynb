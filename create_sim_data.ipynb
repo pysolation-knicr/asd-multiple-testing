{
 "cells": [
  {
   "cell_type": "code",
   "execution_count": 1,
   "metadata": {},
   "outputs": [],
   "source": [
    "import nibabel as nb\n",
    "import numpy as np\n",
    "from pathlib import Path\n",
    "from nibabel import freesurfer"
   ]
  },
  {
   "cell_type": "code",
   "execution_count": 2,
   "metadata": {},
   "outputs": [],
   "source": [
    "data_path = Path('data/')\n",
    "fsaverage_path = Path('fsaverage')\n",
    "surf_path = Path('surf/')\n",
    "idc_file_path = Path('IDC_case_control.csv')"
   ]
  },
  {
   "cell_type": "code",
   "execution_count": 3,
   "metadata": {},
   "outputs": [],
   "source": [
    "idc_matrix = np.genfromtxt(data_path / idc_file_path,    # The input file path\n",
    "                           delimiter=',', # The delimiter that is used to split each element in the file \n",
    "                           dtype=np.str)  # The data type, in this case they are strings"
   ]
  },
  {
   "cell_type": "code",
   "execution_count": 4,
   "metadata": {},
   "outputs": [
    {
     "name": "stdout",
     "output_type": "stream",
     "text": [
      "Cases: ['1' '5' '8' '10'] \n",
      "Controls: ['4' '7' '12' '3']\n"
     ]
    }
   ],
   "source": [
    "print(f'Cases: {idc_matrix[:,0]} \\n'\n",
    "      f'Controls: {idc_matrix[:,1]}')"
   ]
  },
  {
   "cell_type": "code",
   "execution_count": 10,
   "metadata": {},
   "outputs": [
    {
     "name": "stdout",
     "output_type": "stream",
     "text": [
      "All the IDCs in this study: ['1', '5', '8', '10', '4', '7', '12', '3']\n"
     ]
    }
   ],
   "source": [
    "case_list = list(idc_matrix[:, 0])\n",
    "control_list = list(idc_matrix[:, 1])\n",
    "total_idcs = case_list + control_list\n",
    "print(f'All the IDCs in this study: {total_idcs}')"
   ]
  },
  {
   "cell_type": "code",
   "execution_count": 6,
   "metadata": {},
   "outputs": [],
   "source": [
    "# This is a list of the MGH files for the thickness, area and local gyrification index of the cortex.\n",
    "morph = [Path('lh.thickness'), # The left hemisphere thickness per vertex\n",
    "         Path('rh.thickness'), # The right hemisphere thicknes per vertex\n",
    "         Path('lh.area'), # The left hemisphere area\n",
    "         Path('rh.area')] # The right hemisphere area"
   ]
  },
  {
   "cell_type": "code",
   "execution_count": 15,
   "metadata": {},
   "outputs": [
    {
     "name": "stdout",
     "output_type": "stream",
     "text": [
      "data/1\n",
      "data/5\n",
      "data/8\n",
      "data/10\n",
      "data/4\n",
      "data/7\n",
      "data/12\n",
      "data/3\n"
     ]
    }
   ],
   "source": [
    "for idc in total_idcs:\n",
    "    idc_path = data_path / Path(idc)\n",
    "    idc_path.mkdir(exist_ok=True)\n",
    "    print(idc_path)\n",
    "    for morph_path in morph:\n",
    "        morph_data = freesurfer.read_morph_data(data_path / fsaverage_path / surf_path / morph_path)\n",
    "        \n",
    "        random_noise = np.random.rand(morph_data.shape[0])\n",
    "        \n",
    "        idc_morph_data = morph_data + random_noise\n",
    "        \n",
    "        freesurfer.write_morph_data(idc_path / morph_path, idc_morph_data)"
   ]
  },
  {
   "cell_type": "code",
   "execution_count": null,
   "metadata": {},
   "outputs": [],
   "source": []
  }
 ],
 "metadata": {
  "kernelspec": {
   "display_name": "Python 3",
   "language": "python",
   "name": "python3"
  },
  "language_info": {
   "codemirror_mode": {
    "name": "ipython",
    "version": 3
   },
   "file_extension": ".py",
   "mimetype": "text/x-python",
   "name": "python",
   "nbconvert_exporter": "python",
   "pygments_lexer": "ipython3",
   "version": "3.7.8"
  }
 },
 "nbformat": 4,
 "nbformat_minor": 2
}
