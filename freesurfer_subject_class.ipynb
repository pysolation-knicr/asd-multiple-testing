{
 "cells": [
  {
   "cell_type": "code",
   "execution_count": 1,
   "metadata": {},
   "outputs": [],
   "source": [
    "import numpy as np\n",
    "import pandas as pd\n",
    "import nibabel as nibabel\n",
    "import nibabel.freesurfer as freesurfer\n",
    "\n",
    "from pathlib import Path"
   ]
  },
  {
   "cell_type": "code",
   "execution_count": 2,
   "metadata": {},
   "outputs": [],
   "source": [
    "class FreesurferSubject:\n",
    "    \n",
    "    def __init__(self,\n",
    "                 main_path: Path,\n",
    "                 output_path: Path,\n",
    "                 idc: int,\n",
    "                 idc_info_filename: str = 'idc_info.csv'):\n",
    "        \n",
    "        self.main_path = main_path\n",
    "        self.output_path = output_path\n",
    "        self.idc = idc\n",
    "        self.freesurfer_path = self.main_path / Path(str(self.idc))\n",
    "        self.surf_path = self.freesurfer_path / Path('surf')\n",
    "        \n",
    "        self.info_df_path = self.main_path / Path(idc_info_filename)\n",
    "        self.info_df = pd.DataFrame(pd.read_csv(self.info_df_path, index_col=0))\n",
    "        self.info = self.info_df.loc[self.idc, :]\n",
    "        \n",
    "    def __convert_name_to_path(self,\n",
    "                               morphological_structure_name: str) -> Path:\n",
    "        morphological_structure_file = morphological_structure_name.replace('_', '.')\n",
    "        morphological_path = self.surf_path / Path(morphological_structure_file)\n",
    "        return morphological_path\n",
    "        \n",
    "    def read_morphological_data(self,\n",
    "                                morphological_structure_name: str):\n",
    "        morphological_path = self.__convert_name_to_path(morphological_structure_name)\n",
    "        morphological_data = freesurfer.read_morph_data(morphological_path)\n",
    "        return morphological_data"
   ]
  },
  {
   "cell_type": "code",
   "execution_count": 3,
   "metadata": {},
   "outputs": [
    {
     "name": "stdout",
     "output_type": "stream",
     "text": [
      "[2.9777124 2.9625359 2.416439  ... 3.3459013 2.3212845 2.8172   ]\n"
     ]
    }
   ],
   "source": [
    "fss = FreesurferSubject(main_path=Path('data/'),\n",
    "                        output_path=Path('output_path'),\n",
    "                        idc=1)\n",
    "print(fss.read_morphological_data(morphological_structure_name='lh.thickness'))"
   ]
  },
  {
   "cell_type": "code",
   "execution_count": 6,
   "metadata": {},
   "outputs": [],
   "source": [
    "fss_list = []\n",
    "idcs = [1, 3, 4]\n",
    "for idc in idcs:\n",
    "    fss_list.append(FreesurferSubject(main_path=Path('data/'),\n",
    "                                      output_path=Path('output_path'),\n",
    "                                      idc=idc))"
   ]
  },
  {
   "cell_type": "code",
   "execution_count": 14,
   "metadata": {},
   "outputs": [
    {
     "name": "stdout",
     "output_type": "stream",
     "text": [
      "1\n",
      "3\n",
      "4\n",
      "1\n",
      "[2.9777124 2.9625359 2.416439  ... 3.3459013 2.3212845 2.8172   ]\n"
     ]
    }
   ],
   "source": [
    "cases_list = []\n",
    "controls_list = []\n",
    "for fss in fss_list:\n",
    "    print(fss.idc)\n",
    "    if fss.info['age_m'] >= 40:\n",
    "        cases_list.append(fss)\n",
    "    else:\n",
    "        controls_list.append(fss)\n",
    "\n",
    "for fss in cases_list:\n",
    "    print(fss.idc)\n",
    "    print(fss.read_morphological_data(morphological_structure_name='lh_thickness'))"
   ]
  },
  {
   "cell_type": "code",
   "execution_count": null,
   "metadata": {},
   "outputs": [],
   "source": []
  },
  {
   "cell_type": "code",
   "execution_count": null,
   "metadata": {},
   "outputs": [],
   "source": []
  }
 ],
 "metadata": {
  "kernelspec": {
   "display_name": "Python 3",
   "language": "python",
   "name": "python3"
  },
  "language_info": {
   "codemirror_mode": {
    "name": "ipython",
    "version": 3
   },
   "file_extension": ".py",
   "mimetype": "text/x-python",
   "name": "python",
   "nbconvert_exporter": "python",
   "pygments_lexer": "ipython3",
   "version": "3.7.8"
  }
 },
 "nbformat": 4,
 "nbformat_minor": 2
}
